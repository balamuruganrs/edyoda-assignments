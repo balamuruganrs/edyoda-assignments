{
  "nbformat": 4,
  "nbformat_minor": 0,
  "metadata": {
    "colab": {
      "provenance": []
    },
    "kernelspec": {
      "name": "python3",
      "display_name": "Python 3"
    },
    "language_info": {
      "name": "python"
    }
  },
  "cells": [
    {
      "cell_type": "code",
      "execution_count": 3,
      "metadata": {
        "colab": {
          "base_uri": "https://localhost:8080/"
        },
        "id": "zyxJfVPg-DzV",
        "outputId": "0e8581a5-e774-4ac6-83e5-c3a5a083cccb"
      },
      "outputs": [
        {
          "output_type": "stream",
          "name": "stdout",
          "text": [
            "False\n",
            "False\n",
            "True\n"
          ]
        }
      ],
      "source": [
        "#Q8. Write a program to check if all the brackets are closed in a given code snippet.\n",
        "def checkBrackets(snippet):\n",
        "\n",
        "    stack = []\n",
        "    closingBracketsData = {'{': '}', '[': ']', '(': ')'}\n",
        "\n",
        "    for char in snippet:\n",
        "      \n",
        "        if char in closingBracketsData:\n",
        "            stack.append(char)  \n",
        "\n",
        "        elif char in closingBracketsData.values():\n",
        "            if not stack:\n",
        "                return False\n",
        "            elif closingBracketsData[stack[-1]] != char:\n",
        "                return False\n",
        "            else:\n",
        "                stack.pop()\n",
        "    \n",
        "    return not stack\n",
        "\n",
        "\n",
        "print(checkBrackets(\"{([()]}\")) # False\n",
        "print(checkBrackets(\"{[(])}\")) # False\n",
        "print(checkBrackets(\"{[{[{[{{[[(())]]}}]}]}]}\")) # True"
      ]
    }
  ]
}