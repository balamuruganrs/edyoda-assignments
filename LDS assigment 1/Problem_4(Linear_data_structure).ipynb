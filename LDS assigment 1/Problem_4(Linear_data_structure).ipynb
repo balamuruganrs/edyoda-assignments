{
  "nbformat": 4,
  "nbformat_minor": 0,
  "metadata": {
    "colab": {
      "provenance": []
    },
    "kernelspec": {
      "name": "python3",
      "display_name": "Python 3"
    },
    "language_info": {
      "name": "python"
    }
  },
  "cells": [
    {
      "cell_type": "code",
      "execution_count": 2,
      "metadata": {
        "id": "WA3VaR_43yif",
        "colab": {
          "base_uri": "https://localhost:8080/"
        },
        "outputId": "b48131eb-f937-4676-f37b-dd3acd414186"
      },
      "outputs": [
        {
          "output_type": "stream",
          "name": "stdout",
          "text": [
            " aadate\n",
            "d is the non repeated character of input 'aadate'\n"
          ]
        }
      ],
      "source": [
        "#Q4. Write a program to print the first non-repeated character from a string?\n",
        "\n",
        "strg = input(' ')\n",
        "\n",
        "frequency = {}\n",
        "for i in strg:\n",
        "    frequency[i] = strg.count(i)\n",
        "\n",
        "for j in strg:\n",
        "    if frequency[j] == 1:\n",
        "        print(f\"{j} is the non repeated character of input '{strg}'\")\n",
        "        break"
      ]
    }
  ]
}