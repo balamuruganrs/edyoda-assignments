{
  "nbformat": 4,
  "nbformat_minor": 0,
  "metadata": {
    "colab": {
      "provenance": []
    },
    "kernelspec": {
      "name": "python3",
      "display_name": "Python 3"
    },
    "language_info": {
      "name": "python"
    }
  },
  "cells": [
    {
      "cell_type": "code",
      "execution_count": 1,
      "metadata": {
        "colab": {
          "base_uri": "https://localhost:8080/"
        },
        "id": "aje0CqHl8nSf",
        "outputId": "d5b72a10-6307-4dba-8751-21d194d37936"
      },
      "outputs": [
        {
          "output_type": "stream",
          "name": "stdout",
          "text": [
            "Prefix expression: ABC/-AK/L-*,\n",
            "Postfix expression:  *-A/BC-/AKL\n"
          ]
        }
      ],
      "source": [
        "#Q6. Read about infix, prefix, and postfix expressions. Write a program to convert postfix to prefix expression.\n",
        "\n",
        "\n",
        "expression = \"ABC/-AK/L-*\"\n",
        "operators = [\"-\", \"+\", \"/\", \"*\"]\n",
        "stack = []\n",
        "\n",
        "for i in expression:\n",
        "    if i in operators:\n",
        "        operand1 = stack.pop()\n",
        "        operand2 = stack.pop()\n",
        "        result = i + operand2 + operand1\n",
        "        stack.append(result)\n",
        "    else:\n",
        "        stack.append(i)\n",
        "\n",
        "print(f\"Prefix expression: {expression},\\nPostfix expression:  {stack[0]}\")\n"
      ]
    }
  ]
}