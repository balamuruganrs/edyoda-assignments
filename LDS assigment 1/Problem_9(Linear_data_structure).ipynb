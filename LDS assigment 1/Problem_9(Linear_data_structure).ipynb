{
  "nbformat": 4,
  "nbformat_minor": 0,
  "metadata": {
    "colab": {
      "provenance": []
    },
    "kernelspec": {
      "name": "python3",
      "display_name": "Python 3"
    },
    "language_info": {
      "name": "python"
    }
  },
  "cells": [
    {
      "cell_type": "code",
      "execution_count": 2,
      "metadata": {
        "colab": {
          "base_uri": "https://localhost:8080/"
        },
        "id": "y3Hl70DM_ELM",
        "outputId": "5d36233d-e73e-486d-f82b-e9c0743c7cd9"
      },
      "outputs": [
        {
          "output_type": "stream",
          "name": "stdout",
          "text": [
            "Original Stack\n",
            "5\n",
            "4\n",
            "3\n",
            "2\n",
            "1\n",
            "\n",
            "Stack after Reversing\n",
            "1\n",
            "2\n",
            "3\n",
            "4\n",
            "5\n"
          ]
        }
      ],
      "source": [
        "#Q9. Write a program to reverse a stack.\n",
        "\n",
        "class Stack:\n",
        "\n",
        "    def __init__(self):\n",
        "        self.Elements = []\n",
        "\n",
        "    def push(self, value):\n",
        "        self.Elements.append(value)\n",
        "        \n",
        "    def pop(self):\n",
        "        return self.Elements.pop()\n",
        "    \n",
        "    def empty(self):\n",
        "        return self.Elements == []\n",
        "\n",
        "    def show(self):\n",
        "        for value in reversed(self.Elements):\n",
        "            print(value)\n",
        "\n",
        "def BottomInsert(s, value):\n",
        "\n",
        "    if s.empty():\n",
        "\n",
        "        s.push(value)\n",
        "\n",
        "    else:\n",
        "        popped = s.pop()\n",
        "        BottomInsert(s, value)\n",
        "        s.push(popped)\n",
        "\n",
        "def Reverse(s):\n",
        "    if s.empty():\n",
        "        pass\n",
        "    else:\n",
        "        popped = s.pop()\n",
        "        Reverse(s)\n",
        "        BottomInsert(s, popped)\n",
        "\n",
        "stk = Stack()\n",
        "\n",
        "stk.push(1)\n",
        "stk.push(2)\n",
        "stk.push(3)\n",
        "stk.push(4)\n",
        "stk.push(5)\n",
        "\n",
        "print(\"Original Stack\")\n",
        "stk.show()\n",
        "\n",
        "print(\"\\nStack after Reversing\")\n",
        "Reverse(stk)\n",
        "stk.show()"
      ]
    }
  ]
}