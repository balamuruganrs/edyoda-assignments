{
  "nbformat": 4,
  "nbformat_minor": 0,
  "metadata": {
    "colab": {
      "provenance": []
    },
    "kernelspec": {
      "name": "python3",
      "display_name": "Python 3"
    },
    "language_info": {
      "name": "python"
    }
  },
  "cells": [
    {
      "cell_type": "code",
      "execution_count": 1,
      "metadata": {
        "colab": {
          "base_uri": "https://localhost:8080/",
          "height": 35
        },
        "id": "w9dQ6KU_9imn",
        "outputId": "65a25be4-2d0e-4560-82e7-93dc5c6eccff"
      },
      "outputs": [
        {
          "output_type": "execute_result",
          "data": {
            "text/plain": [
              "'A*B-C/D+E'"
            ],
            "application/vnd.google.colaboratory.intrinsic+json": {
              "type": "string"
            }
          },
          "metadata": {},
          "execution_count": 1
        }
      ],
      "source": [
        "#Q7. Write a program to convert prefix expression to infix expression.\n",
        "\n",
        "def prefixToInfix(expression):\n",
        "    stack = []\n",
        "    # we need to reverse the expression to add operands first in the stack before operators\n",
        "    exp = expression[::-1]\n",
        "\n",
        "    for char in exp:\n",
        "        if char in [\"+\", \"-\", \"*\", \"/\"]:\n",
        "            operand1 = stack.pop()\n",
        "            operand2 = stack.pop()\n",
        "            result = operand1 + char + operand2\n",
        "            stack.append(result)\n",
        "            \n",
        "        else:\n",
        "            stack.append(char)\n",
        "\n",
        "    return result\n",
        "\n",
        "prefixToInfix(\"+-*AB/CDE\")"
      ]
    }
  ]
}