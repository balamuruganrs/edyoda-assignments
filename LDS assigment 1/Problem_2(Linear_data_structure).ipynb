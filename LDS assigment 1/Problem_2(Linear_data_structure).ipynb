{
  "nbformat": 4,
  "nbformat_minor": 0,
  "metadata": {
    "colab": {
      "provenance": []
    },
    "kernelspec": {
      "name": "python3",
      "display_name": "Python 3"
    },
    "language_info": {
      "name": "python"
    }
  },
  "cells": [
    {
      "cell_type": "code",
      "execution_count": 11,
      "metadata": {
        "colab": {
          "base_uri": "https://localhost:8080/"
        },
        "id": "716gQhb1zAEG",
        "outputId": "1bc88ef0-a1ac-41f7-85af-27a90b2d0124"
      },
      "outputs": [
        {
          "output_type": "stream",
          "name": "stdout",
          "text": [
            "array\n",
            "[5, 6, 8, 9, 1, 3]\n",
            "reverse_array\n",
            "[3, 1, 9, 8, 6, 5]\n"
          ]
        }
      ],
      "source": [
        "#Q2. Write a program to reverse an array in place? In place means you cannot create a new array. You have to update the original array.\n",
        "\n",
        "def reverse_array(array):\n",
        "      array=array[::-1]\n",
        "      print(array)\n",
        "\n",
        "print(\"array\")\n",
        "array=[5,6,8,9,1,3]\n",
        "print(array)\n",
        "print(\"reverse_array\")\n",
        "reverse_array(array)\n"
      ]
    }
  ]
}