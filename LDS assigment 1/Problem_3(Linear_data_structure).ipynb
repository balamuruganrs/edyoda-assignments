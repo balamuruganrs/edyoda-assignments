{
  "nbformat": 4,
  "nbformat_minor": 0,
  "metadata": {
    "colab": {
      "provenance": []
    },
    "kernelspec": {
      "name": "python3",
      "display_name": "Python 3"
    },
    "language_info": {
      "name": "python"
    }
  },
  "cells": [
    {
      "cell_type": "code",
      "execution_count": 3,
      "metadata": {
        "colab": {
          "base_uri": "https://localhost:8080/"
        },
        "id": "oBvxO0iP2IJx",
        "outputId": "fb7dde13-4d50-4643-fe10-82ac73d44d83"
      },
      "outputs": [
        {
          "output_type": "stream",
          "name": "stdout",
          "text": [
            "No,two string cant rotating to each other\n"
          ]
        }
      ],
      "source": [
        "#Q3. Write a program to check if two strings are a rotation of each other?\n",
        "\n",
        "\n",
        "def is_rotation(str1,str2):\n",
        "  if len(str1)!=len(str2):\n",
        "    return False\n",
        "  else:\n",
        "    return True \n",
        "str1='abcdef'\n",
        "str2='dcgfhr'\n",
        "\n",
        "if is_rotation(str1,str2):\n",
        "  print('yes,two string rotating to each other ')\n",
        "\n",
        "else:\n",
        "  print('No,two string cant rotating to each other')"
      ]
    }
  ]
}