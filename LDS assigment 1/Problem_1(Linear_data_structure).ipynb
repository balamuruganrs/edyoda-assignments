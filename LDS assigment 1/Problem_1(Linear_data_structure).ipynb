{
  "nbformat": 4,
  "nbformat_minor": 0,
  "metadata": {
    "colab": {
      "provenance": []
    },
    "kernelspec": {
      "name": "python3",
      "display_name": "Python 3"
    },
    "language_info": {
      "name": "python"
    }
  },
  "cells": [
    {
      "cell_type": "code",
      "execution_count": 4,
      "metadata": {
        "colab": {
          "base_uri": "https://localhost:8080/"
        },
        "id": "BenPF0WSwgI2",
        "outputId": "ab137239-c96c-4a14-9371-795deb1f09a0"
      },
      "outputs": [
        {
          "output_type": "stream",
          "name": "stdout",
          "text": [
            "( 4 , 10 )\n",
            "( 6 , 8 )\n"
          ]
        }
      ],
      "source": [
        "#Q1. Write a program to find all pairs of an integer array whose sum is equal to a given number?\n",
        "\n",
        "def sum_num(array,num,sum):\n",
        "  for i in range(num):\n",
        "    for j  in range(i+1,num):\n",
        "      if array[i] + array[j] == sum:\n",
        "        print(\"(\",array[i],\",\",array[j],\")\",sep=' ')\n",
        "array=[1,2,3,4,5,6,7,8,10]\n",
        "\n",
        "num=len(array)\n",
        "\n",
        "sum=14\n",
        "\n",
        "sum_num(array,num,sum)"
      ]
    }
  ]
}