{
  "nbformat": 4,
  "nbformat_minor": 0,
  "metadata": {
    "colab": {
      "provenance": []
    },
    "kernelspec": {
      "name": "python3",
      "display_name": "Python 3"
    },
    "language_info": {
      "name": "python"
    }
  },
  "cells": [
    {
      "cell_type": "code",
      "execution_count": 2,
      "metadata": {
        "colab": {
          "base_uri": "https://localhost:8080/"
        },
        "id": "h7y5I-ufdul8",
        "outputId": "7e4509b8-941d-4a6e-b814-4e2be0627f46"
      },
      "outputs": [
        {
          "output_type": "execute_result",
          "data": {
            "text/plain": [
              "-988"
            ]
          },
          "metadata": {},
          "execution_count": 2
        }
      ],
      "source": [
        "def smallestStackVal(stack):\n",
        "\n",
        "    popped_element = stack.pop()\n",
        "    for val in stack:\n",
        "        if val < popped_element:\n",
        "            popped_element = val\n",
        "\n",
        "    return popped_element\n",
        "\n",
        "stack = [1,5,-988,9,-19,-3,9,7,6,7,-222]\n",
        "smallestStackVal(stack)\n",
        "     "
      ]
    }
  ]
}