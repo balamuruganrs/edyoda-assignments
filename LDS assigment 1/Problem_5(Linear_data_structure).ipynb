{
  "nbformat": 4,
  "nbformat_minor": 0,
  "metadata": {
    "colab": {
      "provenance": []
    },
    "kernelspec": {
      "name": "python3",
      "display_name": "Python 3"
    },
    "language_info": {
      "name": "python"
    }
  },
  "cells": [
    {
      "cell_type": "code",
      "execution_count": 2,
      "metadata": {
        "colab": {
          "base_uri": "https://localhost:8080/"
        },
        "id": "1_ZhGeWR1arD",
        "outputId": "d64cb3ac-f7d9-4aa2-d679-7c743cc3a0a2"
      },
      "outputs": [
        {
          "output_type": "stream",
          "name": "stdout",
          "text": [
            "Move disk 1 from rod A to rod C\n",
            "Move disk 2 from rod A to rod B\n",
            "Move disk 1 from rod C to rod B\n",
            "Move disk 3 from rod A to rod C\n",
            "Move disk 1 from rod B to rod A\n",
            "Move disk 2 from rod B to rod C\n",
            "Move disk 1 from rod A to rod C\n"
          ]
        }
      ],
      "source": [
        "#Q5. Read about the Tower of Hanoi algorithm. Write a program to implement it.\n",
        "\n",
        "\n",
        "\n",
        "def TowerOfHanoi(n , from_rod, to_rod, aux_rod):\n",
        "    if n == 1:\n",
        "        print(\"Move disk 1 from rod\",from_rod,\"to rod\",to_rod)\n",
        "        return\n",
        "    TowerOfHanoi(n-1, from_rod, aux_rod, to_rod)\n",
        "    print(\"Move disk\",n,\"from rod\",from_rod,\"to rod\",to_rod)\n",
        "    TowerOfHanoi(n-1, aux_rod, to_rod, from_rod)\n",
        "    \n",
        "n = 3\n",
        "TowerOfHanoi(n, 'A', 'C', 'B')"
      ]
    }
  ]
}